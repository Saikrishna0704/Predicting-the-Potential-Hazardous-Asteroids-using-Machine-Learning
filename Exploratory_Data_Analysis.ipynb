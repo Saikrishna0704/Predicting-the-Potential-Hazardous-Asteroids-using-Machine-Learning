{
  "nbformat": 4,
  "nbformat_minor": 0,
  "metadata": {
    "colab": {
      "name": "Exploratory Data Analysis.ipynb",
      "provenance": []
    },
    "kernelspec": {
      "name": "python3",
      "display_name": "Python 3"
    },
    "language_info": {
      "name": "python"
    }
  },
  "cells": [
    {
      "cell_type": "code",
      "metadata": {
        "id": "cYer92D7Q1un"
      },
      "source": [
        "import pandas as pd\n",
        "from matplotlib import pyplot as plt\n",
        "import seaborn as sns"
      ],
      "execution_count": 1,
      "outputs": []
    },
    {
      "cell_type": "code",
      "metadata": {
        "id": "-VegIhmWRegC"
      },
      "source": [
        "data=pd.read_csv(\"/content/drive/MyDrive/Predicting the Potentially Hazardous Asteroid to Earth using Machine Learning/Data set/Data of 27_04_2021.csv\")"
      ],
      "execution_count": 2,
      "outputs": []
    },
    {
      "cell_type": "code",
      "metadata": {
        "colab": {
          "base_uri": "https://localhost:8080/",
          "height": 206
        },
        "id": "leW0_t2jRejZ",
        "outputId": "887134af-1981-451e-a7c0-4a48a3e8c616"
      },
      "source": [
        "data.head()"
      ],
      "execution_count": 3,
      "outputs": [
        {
          "output_type": "execute_result",
          "data": {
            "text/html": [
              "\n",
              "  <div id=\"df-9b654e1f-09e0-4bb8-ad2d-02425fb7072e\">\n",
              "    <div class=\"colab-df-container\">\n",
              "      <div>\n",
              "<style scoped>\n",
              "    .dataframe tbody tr th:only-of-type {\n",
              "        vertical-align: middle;\n",
              "    }\n",
              "\n",
              "    .dataframe tbody tr th {\n",
              "        vertical-align: top;\n",
              "    }\n",
              "\n",
              "    .dataframe thead th {\n",
              "        text-align: right;\n",
              "    }\n",
              "</style>\n",
              "<table border=\"1\" class=\"dataframe\">\n",
              "  <thead>\n",
              "    <tr style=\"text-align: right;\">\n",
              "      <th></th>\n",
              "      <th>full_name</th>\n",
              "      <th>H</th>\n",
              "      <th>e</th>\n",
              "      <th>a</th>\n",
              "      <th>q</th>\n",
              "      <th>i</th>\n",
              "      <th>moid</th>\n",
              "      <th>class</th>\n",
              "      <th>pha</th>\n",
              "    </tr>\n",
              "  </thead>\n",
              "  <tbody>\n",
              "    <tr>\n",
              "      <th>0</th>\n",
              "      <td>433 Eros (A898 PA)</td>\n",
              "      <td>10.40</td>\n",
              "      <td>0.222994</td>\n",
              "      <td>1.458167</td>\n",
              "      <td>1.133005</td>\n",
              "      <td>10.830513</td>\n",
              "      <td>0.148573</td>\n",
              "      <td>AMO</td>\n",
              "      <td>N</td>\n",
              "    </tr>\n",
              "    <tr>\n",
              "      <th>1</th>\n",
              "      <td>719 Albert (A911 TB)</td>\n",
              "      <td>15.51</td>\n",
              "      <td>0.546721</td>\n",
              "      <td>2.638378</td>\n",
              "      <td>1.195922</td>\n",
              "      <td>11.570400</td>\n",
              "      <td>0.201325</td>\n",
              "      <td>AMO</td>\n",
              "      <td>N</td>\n",
              "    </tr>\n",
              "    <tr>\n",
              "      <th>2</th>\n",
              "      <td>887 Alinda (A918 AA)</td>\n",
              "      <td>13.84</td>\n",
              "      <td>0.570422</td>\n",
              "      <td>2.473534</td>\n",
              "      <td>1.062575</td>\n",
              "      <td>9.393848</td>\n",
              "      <td>0.081753</td>\n",
              "      <td>AMO</td>\n",
              "      <td>N</td>\n",
              "    </tr>\n",
              "    <tr>\n",
              "      <th>3</th>\n",
              "      <td>1036 Ganymed (A924 UB)</td>\n",
              "      <td>9.30</td>\n",
              "      <td>0.533095</td>\n",
              "      <td>2.665194</td>\n",
              "      <td>1.244392</td>\n",
              "      <td>26.676143</td>\n",
              "      <td>0.343891</td>\n",
              "      <td>AMO</td>\n",
              "      <td>N</td>\n",
              "    </tr>\n",
              "    <tr>\n",
              "      <th>4</th>\n",
              "      <td>1221 Amor (1932 EA1)</td>\n",
              "      <td>17.39</td>\n",
              "      <td>0.435488</td>\n",
              "      <td>1.919166</td>\n",
              "      <td>1.083392</td>\n",
              "      <td>11.880444</td>\n",
              "      <td>0.106469</td>\n",
              "      <td>AMO</td>\n",
              "      <td>N</td>\n",
              "    </tr>\n",
              "  </tbody>\n",
              "</table>\n",
              "</div>\n",
              "      <button class=\"colab-df-convert\" onclick=\"convertToInteractive('df-9b654e1f-09e0-4bb8-ad2d-02425fb7072e')\"\n",
              "              title=\"Convert this dataframe to an interactive table.\"\n",
              "              style=\"display:none;\">\n",
              "        \n",
              "  <svg xmlns=\"http://www.w3.org/2000/svg\" height=\"24px\"viewBox=\"0 0 24 24\"\n",
              "       width=\"24px\">\n",
              "    <path d=\"M0 0h24v24H0V0z\" fill=\"none\"/>\n",
              "    <path d=\"M18.56 5.44l.94 2.06.94-2.06 2.06-.94-2.06-.94-.94-2.06-.94 2.06-2.06.94zm-11 1L8.5 8.5l.94-2.06 2.06-.94-2.06-.94L8.5 2.5l-.94 2.06-2.06.94zm10 10l.94 2.06.94-2.06 2.06-.94-2.06-.94-.94-2.06-.94 2.06-2.06.94z\"/><path d=\"M17.41 7.96l-1.37-1.37c-.4-.4-.92-.59-1.43-.59-.52 0-1.04.2-1.43.59L10.3 9.45l-7.72 7.72c-.78.78-.78 2.05 0 2.83L4 21.41c.39.39.9.59 1.41.59.51 0 1.02-.2 1.41-.59l7.78-7.78 2.81-2.81c.8-.78.8-2.07 0-2.86zM5.41 20L4 18.59l7.72-7.72 1.47 1.35L5.41 20z\"/>\n",
              "  </svg>\n",
              "      </button>\n",
              "      \n",
              "  <style>\n",
              "    .colab-df-container {\n",
              "      display:flex;\n",
              "      flex-wrap:wrap;\n",
              "      gap: 12px;\n",
              "    }\n",
              "\n",
              "    .colab-df-convert {\n",
              "      background-color: #E8F0FE;\n",
              "      border: none;\n",
              "      border-radius: 50%;\n",
              "      cursor: pointer;\n",
              "      display: none;\n",
              "      fill: #1967D2;\n",
              "      height: 32px;\n",
              "      padding: 0 0 0 0;\n",
              "      width: 32px;\n",
              "    }\n",
              "\n",
              "    .colab-df-convert:hover {\n",
              "      background-color: #E2EBFA;\n",
              "      box-shadow: 0px 1px 2px rgba(60, 64, 67, 0.3), 0px 1px 3px 1px rgba(60, 64, 67, 0.15);\n",
              "      fill: #174EA6;\n",
              "    }\n",
              "\n",
              "    [theme=dark] .colab-df-convert {\n",
              "      background-color: #3B4455;\n",
              "      fill: #D2E3FC;\n",
              "    }\n",
              "\n",
              "    [theme=dark] .colab-df-convert:hover {\n",
              "      background-color: #434B5C;\n",
              "      box-shadow: 0px 1px 3px 1px rgba(0, 0, 0, 0.15);\n",
              "      filter: drop-shadow(0px 1px 2px rgba(0, 0, 0, 0.3));\n",
              "      fill: #FFFFFF;\n",
              "    }\n",
              "  </style>\n",
              "\n",
              "      <script>\n",
              "        const buttonEl =\n",
              "          document.querySelector('#df-9b654e1f-09e0-4bb8-ad2d-02425fb7072e button.colab-df-convert');\n",
              "        buttonEl.style.display =\n",
              "          google.colab.kernel.accessAllowed ? 'block' : 'none';\n",
              "\n",
              "        async function convertToInteractive(key) {\n",
              "          const element = document.querySelector('#df-9b654e1f-09e0-4bb8-ad2d-02425fb7072e');\n",
              "          const dataTable =\n",
              "            await google.colab.kernel.invokeFunction('convertToInteractive',\n",
              "                                                     [key], {});\n",
              "          if (!dataTable) return;\n",
              "\n",
              "          const docLinkHtml = 'Like what you see? Visit the ' +\n",
              "            '<a target=\"_blank\" href=https://colab.research.google.com/notebooks/data_table.ipynb>data table notebook</a>'\n",
              "            + ' to learn more about interactive tables.';\n",
              "          element.innerHTML = '';\n",
              "          dataTable['output_type'] = 'display_data';\n",
              "          await google.colab.output.renderOutput(dataTable, element);\n",
              "          const docLink = document.createElement('div');\n",
              "          docLink.innerHTML = docLinkHtml;\n",
              "          element.appendChild(docLink);\n",
              "        }\n",
              "      </script>\n",
              "    </div>\n",
              "  </div>\n",
              "  "
            ],
            "text/plain": [
              "                full_name      H         e         a         q          i  \\\n",
              "0      433 Eros (A898 PA)  10.40  0.222994  1.458167  1.133005  10.830513   \n",
              "1    719 Albert (A911 TB)  15.51  0.546721  2.638378  1.195922  11.570400   \n",
              "2    887 Alinda (A918 AA)  13.84  0.570422  2.473534  1.062575   9.393848   \n",
              "3  1036 Ganymed (A924 UB)   9.30  0.533095  2.665194  1.244392  26.676143   \n",
              "4    1221 Amor (1932 EA1)  17.39  0.435488  1.919166  1.083392  11.880444   \n",
              "\n",
              "       moid class pha  \n",
              "0  0.148573   AMO   N  \n",
              "1  0.201325   AMO   N  \n",
              "2  0.081753   AMO   N  \n",
              "3  0.343891   AMO   N  \n",
              "4  0.106469   AMO   N  "
            ]
          },
          "metadata": {},
          "execution_count": 3
        }
      ]
    },
    {
      "cell_type": "code",
      "metadata": {
        "id": "njneLghMRent"
      },
      "source": [
        "data=data.iloc[:,1:]"
      ],
      "execution_count": 4,
      "outputs": []
    },
    {
      "cell_type": "code",
      "metadata": {
        "colab": {
          "base_uri": "https://localhost:8080/",
          "height": 206
        },
        "id": "pXOij_y1R0tx",
        "outputId": "3fd4e210-1f24-4944-88d6-d11c84a15403"
      },
      "source": [
        "data.head()"
      ],
      "execution_count": 5,
      "outputs": [
        {
          "output_type": "execute_result",
          "data": {
            "text/html": [
              "\n",
              "  <div id=\"df-bc20b7e1-539f-407e-bb71-aac345fd2aff\">\n",
              "    <div class=\"colab-df-container\">\n",
              "      <div>\n",
              "<style scoped>\n",
              "    .dataframe tbody tr th:only-of-type {\n",
              "        vertical-align: middle;\n",
              "    }\n",
              "\n",
              "    .dataframe tbody tr th {\n",
              "        vertical-align: top;\n",
              "    }\n",
              "\n",
              "    .dataframe thead th {\n",
              "        text-align: right;\n",
              "    }\n",
              "</style>\n",
              "<table border=\"1\" class=\"dataframe\">\n",
              "  <thead>\n",
              "    <tr style=\"text-align: right;\">\n",
              "      <th></th>\n",
              "      <th>H</th>\n",
              "      <th>e</th>\n",
              "      <th>a</th>\n",
              "      <th>q</th>\n",
              "      <th>i</th>\n",
              "      <th>moid</th>\n",
              "      <th>class</th>\n",
              "      <th>pha</th>\n",
              "    </tr>\n",
              "  </thead>\n",
              "  <tbody>\n",
              "    <tr>\n",
              "      <th>0</th>\n",
              "      <td>10.40</td>\n",
              "      <td>0.222994</td>\n",
              "      <td>1.458167</td>\n",
              "      <td>1.133005</td>\n",
              "      <td>10.830513</td>\n",
              "      <td>0.148573</td>\n",
              "      <td>AMO</td>\n",
              "      <td>N</td>\n",
              "    </tr>\n",
              "    <tr>\n",
              "      <th>1</th>\n",
              "      <td>15.51</td>\n",
              "      <td>0.546721</td>\n",
              "      <td>2.638378</td>\n",
              "      <td>1.195922</td>\n",
              "      <td>11.570400</td>\n",
              "      <td>0.201325</td>\n",
              "      <td>AMO</td>\n",
              "      <td>N</td>\n",
              "    </tr>\n",
              "    <tr>\n",
              "      <th>2</th>\n",
              "      <td>13.84</td>\n",
              "      <td>0.570422</td>\n",
              "      <td>2.473534</td>\n",
              "      <td>1.062575</td>\n",
              "      <td>9.393848</td>\n",
              "      <td>0.081753</td>\n",
              "      <td>AMO</td>\n",
              "      <td>N</td>\n",
              "    </tr>\n",
              "    <tr>\n",
              "      <th>3</th>\n",
              "      <td>9.30</td>\n",
              "      <td>0.533095</td>\n",
              "      <td>2.665194</td>\n",
              "      <td>1.244392</td>\n",
              "      <td>26.676143</td>\n",
              "      <td>0.343891</td>\n",
              "      <td>AMO</td>\n",
              "      <td>N</td>\n",
              "    </tr>\n",
              "    <tr>\n",
              "      <th>4</th>\n",
              "      <td>17.39</td>\n",
              "      <td>0.435488</td>\n",
              "      <td>1.919166</td>\n",
              "      <td>1.083392</td>\n",
              "      <td>11.880444</td>\n",
              "      <td>0.106469</td>\n",
              "      <td>AMO</td>\n",
              "      <td>N</td>\n",
              "    </tr>\n",
              "  </tbody>\n",
              "</table>\n",
              "</div>\n",
              "      <button class=\"colab-df-convert\" onclick=\"convertToInteractive('df-bc20b7e1-539f-407e-bb71-aac345fd2aff')\"\n",
              "              title=\"Convert this dataframe to an interactive table.\"\n",
              "              style=\"display:none;\">\n",
              "        \n",
              "  <svg xmlns=\"http://www.w3.org/2000/svg\" height=\"24px\"viewBox=\"0 0 24 24\"\n",
              "       width=\"24px\">\n",
              "    <path d=\"M0 0h24v24H0V0z\" fill=\"none\"/>\n",
              "    <path d=\"M18.56 5.44l.94 2.06.94-2.06 2.06-.94-2.06-.94-.94-2.06-.94 2.06-2.06.94zm-11 1L8.5 8.5l.94-2.06 2.06-.94-2.06-.94L8.5 2.5l-.94 2.06-2.06.94zm10 10l.94 2.06.94-2.06 2.06-.94-2.06-.94-.94-2.06-.94 2.06-2.06.94z\"/><path d=\"M17.41 7.96l-1.37-1.37c-.4-.4-.92-.59-1.43-.59-.52 0-1.04.2-1.43.59L10.3 9.45l-7.72 7.72c-.78.78-.78 2.05 0 2.83L4 21.41c.39.39.9.59 1.41.59.51 0 1.02-.2 1.41-.59l7.78-7.78 2.81-2.81c.8-.78.8-2.07 0-2.86zM5.41 20L4 18.59l7.72-7.72 1.47 1.35L5.41 20z\"/>\n",
              "  </svg>\n",
              "      </button>\n",
              "      \n",
              "  <style>\n",
              "    .colab-df-container {\n",
              "      display:flex;\n",
              "      flex-wrap:wrap;\n",
              "      gap: 12px;\n",
              "    }\n",
              "\n",
              "    .colab-df-convert {\n",
              "      background-color: #E8F0FE;\n",
              "      border: none;\n",
              "      border-radius: 50%;\n",
              "      cursor: pointer;\n",
              "      display: none;\n",
              "      fill: #1967D2;\n",
              "      height: 32px;\n",
              "      padding: 0 0 0 0;\n",
              "      width: 32px;\n",
              "    }\n",
              "\n",
              "    .colab-df-convert:hover {\n",
              "      background-color: #E2EBFA;\n",
              "      box-shadow: 0px 1px 2px rgba(60, 64, 67, 0.3), 0px 1px 3px 1px rgba(60, 64, 67, 0.15);\n",
              "      fill: #174EA6;\n",
              "    }\n",
              "\n",
              "    [theme=dark] .colab-df-convert {\n",
              "      background-color: #3B4455;\n",
              "      fill: #D2E3FC;\n",
              "    }\n",
              "\n",
              "    [theme=dark] .colab-df-convert:hover {\n",
              "      background-color: #434B5C;\n",
              "      box-shadow: 0px 1px 3px 1px rgba(0, 0, 0, 0.15);\n",
              "      filter: drop-shadow(0px 1px 2px rgba(0, 0, 0, 0.3));\n",
              "      fill: #FFFFFF;\n",
              "    }\n",
              "  </style>\n",
              "\n",
              "      <script>\n",
              "        const buttonEl =\n",
              "          document.querySelector('#df-bc20b7e1-539f-407e-bb71-aac345fd2aff button.colab-df-convert');\n",
              "        buttonEl.style.display =\n",
              "          google.colab.kernel.accessAllowed ? 'block' : 'none';\n",
              "\n",
              "        async function convertToInteractive(key) {\n",
              "          const element = document.querySelector('#df-bc20b7e1-539f-407e-bb71-aac345fd2aff');\n",
              "          const dataTable =\n",
              "            await google.colab.kernel.invokeFunction('convertToInteractive',\n",
              "                                                     [key], {});\n",
              "          if (!dataTable) return;\n",
              "\n",
              "          const docLinkHtml = 'Like what you see? Visit the ' +\n",
              "            '<a target=\"_blank\" href=https://colab.research.google.com/notebooks/data_table.ipynb>data table notebook</a>'\n",
              "            + ' to learn more about interactive tables.';\n",
              "          element.innerHTML = '';\n",
              "          dataTable['output_type'] = 'display_data';\n",
              "          await google.colab.output.renderOutput(dataTable, element);\n",
              "          const docLink = document.createElement('div');\n",
              "          docLink.innerHTML = docLinkHtml;\n",
              "          element.appendChild(docLink);\n",
              "        }\n",
              "      </script>\n",
              "    </div>\n",
              "  </div>\n",
              "  "
            ],
            "text/plain": [
              "       H         e         a         q          i      moid class pha\n",
              "0  10.40  0.222994  1.458167  1.133005  10.830513  0.148573   AMO   N\n",
              "1  15.51  0.546721  2.638378  1.195922  11.570400  0.201325   AMO   N\n",
              "2  13.84  0.570422  2.473534  1.062575   9.393848  0.081753   AMO   N\n",
              "3   9.30  0.533095  2.665194  1.244392  26.676143  0.343891   AMO   N\n",
              "4  17.39  0.435488  1.919166  1.083392  11.880444  0.106469   AMO   N"
            ]
          },
          "metadata": {},
          "execution_count": 5
        }
      ]
    },
    {
      "cell_type": "markdown",
      "metadata": {
        "id": "N8bDzUvDR-5Y"
      },
      "source": [
        "# **Over view on the dataset**"
      ]
    },
    {
      "cell_type": "code",
      "metadata": {
        "colab": {
          "base_uri": "https://localhost:8080/"
        },
        "id": "TI6HQRfcR2ga",
        "outputId": "f84dfb9c-4367-4e11-ef2d-55792eec9381"
      },
      "source": [
        "print(\"No. of columns = \",data.shape[0])\n",
        "print(\"No. of rows = \",data.shape[1])"
      ],
      "execution_count": 6,
      "outputs": [
        {
          "output_type": "stream",
          "name": "stdout",
          "text": [
            "No. of columns =  25708\n",
            "No. of rows =  8\n"
          ]
        }
      ]
    },
    {
      "cell_type": "code",
      "metadata": {
        "colab": {
          "base_uri": "https://localhost:8080/"
        },
        "id": "yvmEKrIlSJsf",
        "outputId": "1110c6e4-f8d1-4fb7-a2a1-2d0bd6b1d305"
      },
      "source": [
        "data.dtypes"
      ],
      "execution_count": 7,
      "outputs": [
        {
          "output_type": "execute_result",
          "data": {
            "text/plain": [
              "H        float64\n",
              "e        float64\n",
              "a        float64\n",
              "q        float64\n",
              "i        float64\n",
              "moid     float64\n",
              "class     object\n",
              "pha       object\n",
              "dtype: object"
            ]
          },
          "metadata": {},
          "execution_count": 7
        }
      ]
    },
    {
      "cell_type": "markdown",
      "metadata": {
        "id": "NW_9f1WWYwx1"
      },
      "source": [
        "# **Univarient analysis**"
      ]
    },
    {
      "cell_type": "code",
      "source": [
        "def univarient_analysis_cat_data(feature):\n",
        "  print(data[feature].value_counts())\n",
        "  data[feature].value_counts(normalize=True).plot.bar(title = feature)"
      ],
      "metadata": {
        "id": "f0SAPDUIZr57"
      },
      "execution_count": 11,
      "outputs": []
    },
    {
      "cell_type": "markdown",
      "metadata": {
        "id": "ij_NHpVSYx-1"
      },
      "source": [
        "analysis on **pha**"
      ]
    },
    {
      "cell_type": "code",
      "metadata": {
        "colab": {
          "base_uri": "https://localhost:8080/",
          "height": 331
        },
        "id": "4FOx9psgYvvr",
        "outputId": "93a07b74-b6f7-4819-b0b7-bf223bc065d5"
      },
      "source": [
        "univarient_analysis_cat_data('pha')"
      ],
      "execution_count": 12,
      "outputs": [
        {
          "output_type": "stream",
          "name": "stdout",
          "text": [
            "N    23544\n",
            "Y     2163\n",
            "Name: pha, dtype: int64\n"
          ]
        },
        {
          "output_type": "display_data",
          "data": {
            "image/png": "[encoded data removed]",
            "text/plain": [
              "<Figure size 432x288 with 1 Axes>"
            ]
          },
          "metadata": {
            "needs_background": "light"
          }
        }
      ]
    },
    {
      "cell_type": "markdown",
      "metadata": {
        "id": "Gwy3ubo6ZL_N"
      },
      "source": [
        "analysis on **orbit class**"
      ]
    },
    {
      "cell_type": "code",
      "metadata": {
        "colab": {
          "base_uri": "https://localhost:8080/",
          "height": 382
        },
        "id": "6s23bStvZInI",
        "outputId": "cd1bd466-6229-417b-e5bd-354b3c41dab0"
      },
      "source": [
        "univarient_analysis_cat_data('class')"
      ],
      "execution_count": 13,
      "outputs": [
        {
          "output_type": "stream",
          "name": "stdout",
          "text": [
            "APO    14301\n",
            "AMO     9407\n",
            "ATE     1977\n",
            "IEO       23\n",
            "Name: class, dtype: int64\n"
          ]
        },
        {
          "output_type": "display_data",
          "data": {
            "image/png": "[encoded data removed]",
            "text/plain": [
              "<Figure size 432x288 with 1 Axes>"
            ]
          },
          "metadata": {
            "needs_background": "light"
          }
        }
      ]
    },
    {
      "cell_type": "code",
      "source": [
        "def univarient_analysis_num_data(feature):\n",
        "  plt.figure(1)\n",
        "  plt.subplot(121)\n",
        "  sns.distplot(data[feature]);\n",
        "  \n",
        "  plt.subplot(122)\n",
        "  data[feature].plot.box(figsize=(16,5))\n",
        "  plt.show()"
      ],
      "metadata": {
        "id": "nuw5LGMQaxxb"
      },
      "execution_count": 16,
      "outputs": []
    },
    {
      "cell_type": "markdown",
      "metadata": {
        "id": "8bzgqklQah1J"
      },
      "source": [
        "analysis on **H**"
      ]
    },
    {
      "cell_type": "code",
      "metadata": {
        "colab": {
          "base_uri": "https://localhost:8080/",
          "height": 390
        },
        "id": "W4_4K2JJZKK0",
        "outputId": "8b425f26-e135-4b43-8f2a-fa78bab1db63"
      },
      "source": [
        "univarient_analysis_num_data('H')"
      ],
      "execution_count": 17,
      "outputs": [
        {
          "output_type": "stream",
          "name": "stderr",
          "text": [
            "/usr/local/lib/python3.7/dist-packages/seaborn/distributions.py:2619: FutureWarning: `distplot` is a deprecated function and will be removed in a future version. Please adapt your code to use either `displot` (a figure-level function with similar flexibility) or `histplot` (an axes-level function for histograms).\n",
            "  warnings.warn(msg, FutureWarning)\n"
          ]
        },
        {
          "output_type": "display_data",
          "data": {
            "image/png": "[encoded data removed]",
            "text/plain": [
              "<Figure size 1152x360 with 2 Axes>"
            ]
          },
          "metadata": {
            "needs_background": "light"
          }
        }
      ]
    },
    {
      "cell_type": "markdown",
      "metadata": {
        "id": "co2PsLy3amzp"
      },
      "source": [
        "analysis on **e**"
      ]
    },
    {
      "cell_type": "code",
      "metadata": {
        "colab": {
          "base_uri": "https://localhost:8080/",
          "height": 389
        },
        "id": "QnM-iBgJZKNh",
        "outputId": "29fe235e-1628-40da-c78c-0ca5c9cbe868"
      },
      "source": [
        "univarient_analysis_num_data('e')"
      ],
      "execution_count": 18,
      "outputs": [
        {
          "output_type": "stream",
          "name": "stderr",
          "text": [
            "/usr/local/lib/python3.7/dist-packages/seaborn/distributions.py:2619: FutureWarning: `distplot` is a deprecated function and will be removed in a future version. Please adapt your code to use either `displot` (a figure-level function with similar flexibility) or `histplot` (an axes-level function for histograms).\n",
            "  warnings.warn(msg, FutureWarning)\n"
          ]
        },
        {
          "output_type": "display_data",
          "data": {
            "image/png": "[encoded data removed]",
            "text/plain": [
              "<Figure size 1152x360 with 2 Axes>"
            ]
          },
          "metadata": {
            "needs_background": "light"
          }
        }
      ]
    },
    {
      "cell_type": "markdown",
      "metadata": {
        "id": "HtpUhM7Bappp"
      },
      "source": [
        "analysis on **a**"
      ]
    },
    {
      "cell_type": "code",
      "metadata": {
        "colab": {
          "base_uri": "https://localhost:8080/",
          "height": 389
        },
        "id": "Cmek5fLHZgVK",
        "outputId": "8da1e15c-8cf9-4f09-cd34-d2e067b84dec"
      },
      "source": [
        "univarient_analysis_num_data('a')"
      ],
      "execution_count": 19,
      "outputs": [
        {
          "output_type": "stream",
          "name": "stderr",
          "text": [
            "/usr/local/lib/python3.7/dist-packages/seaborn/distributions.py:2619: FutureWarning: `distplot` is a deprecated function and will be removed in a future version. Please adapt your code to use either `displot` (a figure-level function with similar flexibility) or `histplot` (an axes-level function for histograms).\n",
            "  warnings.warn(msg, FutureWarning)\n"
          ]
        },
        {
          "output_type": "display_data",
          "data": {
            "image/png": "[encoded data removed]",
            "text/plain": [
              "<Figure size 1152x360 with 2 Axes>"
            ]
          },
          "metadata": {
            "needs_background": "light"
          }
        }
      ]
    },
    {
      "cell_type": "markdown",
      "metadata": {
        "id": "8H_6gBJmasJ_"
      },
      "source": [
        "analysis on **i**"
      ]
    },
    {
      "cell_type": "code",
      "metadata": {
        "colab": {
          "base_uri": "https://localhost:8080/",
          "height": 389
        },
        "id": "oMcaqnhbZcBI",
        "outputId": "88925587-bb18-4636-f8ef-2828d9980907"
      },
      "source": [
        "univarient_analysis_num_data('i')"
      ],
      "execution_count": 20,
      "outputs": [
        {
          "output_type": "stream",
          "name": "stderr",
          "text": [
            "/usr/local/lib/python3.7/dist-packages/seaborn/distributions.py:2619: FutureWarning: `distplot` is a deprecated function and will be removed in a future version. Please adapt your code to use either `displot` (a figure-level function with similar flexibility) or `histplot` (an axes-level function for histograms).\n",
            "  warnings.warn(msg, FutureWarning)\n"
          ]
        },
        {
          "output_type": "display_data",
          "data": {
            "image/png": "[encoded data removed]",
            "text/plain": [
              "<Figure size 1152x360 with 2 Axes>"
            ]
          },
          "metadata": {
            "needs_background": "light"
          }
        }
      ]
    },
    {
      "cell_type": "markdown",
      "metadata": {
        "id": "rqRWo4qRauUt"
      },
      "source": [
        "analysis on **moid**"
      ]
    },
    {
      "cell_type": "code",
      "metadata": {
        "colab": {
          "base_uri": "https://localhost:8080/",
          "height": 389
        },
        "id": "oeYFEDZ7ZcHt",
        "outputId": "cedcb207-3ef0-445a-fe10-a3db3457e1be"
      },
      "source": [
        "univarient_analysis_num_data('moid')"
      ],
      "execution_count": 21,
      "outputs": [
        {
          "output_type": "stream",
          "name": "stderr",
          "text": [
            "/usr/local/lib/python3.7/dist-packages/seaborn/distributions.py:2619: FutureWarning: `distplot` is a deprecated function and will be removed in a future version. Please adapt your code to use either `displot` (a figure-level function with similar flexibility) or `histplot` (an axes-level function for histograms).\n",
            "  warnings.warn(msg, FutureWarning)\n"
          ]
        },
        {
          "output_type": "display_data",
          "data": {
            "image/png": "[encoded data removed]",
            "text/plain": [
              "<Figure size 1152x360 with 2 Axes>"
            ]
          },
          "metadata": {
            "needs_background": "light"
          }
        }
      ]
    },
    {
      "cell_type": "markdown",
      "metadata": {
        "id": "Sjh9l3QgZnvo"
      },
      "source": [
        "# **Bi-variant analysis**"
      ]
    },
    {
      "cell_type": "code",
      "metadata": {
        "colab": {
          "base_uri": "https://localhost:8080/",
          "height": 390
        },
        "id": "uBQlIchoZjPC",
        "outputId": "08e1d120-c3b1-4c2a-b169-8ca1cfa90fab"
      },
      "source": [
        "print(pd.crosstab(data[\"class\"],data[\"pha\"]))\n",
        "a=pd.crosstab(data[\"class\"],data[\"pha\"])\n",
        "a.div(a.sum(1).astype(float),axis=0).plot(kind=\"bar\",stacked=True,figsize=(4,4))\n",
        "plt.xlabel(\"class\")\n",
        "plt.ylabel(\"pha\")\n",
        "plt.show()"
      ],
      "execution_count": null,
      "outputs": [
        {
          "output_type": "stream",
          "name": "stdout",
          "text": [
            "pha        N     Y\n",
            "class             \n",
            "AMO     9271   135\n",
            "APO    12454  1847\n",
            "ATE     1802   175\n",
            "IEO       17     6\n"
          ]
        },
        {
          "output_type": "display_data",
          "data": {
            "image/png": "[encoded data removed]",
            "text/plain": [
              "<Figure size 288x288 with 1 Axes>"
            ]
          },
          "metadata": {
            "needs_background": "light"
          }
        }
      ]
    },
    {
      "cell_type": "markdown",
      "metadata": {
        "id": "FOgmrK6zwcQd"
      },
      "source": [
        "# **Correlation**"
      ]
    },
    {
      "cell_type": "code",
      "metadata": {
        "colab": {
          "base_uri": "https://localhost:8080/",
          "height": 503
        },
        "id": "5NO91O6vorMS",
        "outputId": "7973bd1d-f000-47e5-f504-6a8a5fcd3ff3"
      },
      "source": [
        "corrmat = data.corr()\n",
        "  \n",
        "f, ax = plt.subplots(figsize =(9, 8))\n",
        "sns.heatmap(corrmat, ax = ax, cmap =\"YlGnBu\", linewidths = 0.1,annot = True)"
      ],
      "execution_count": null,
      "outputs": [
        {
          "output_type": "execute_result",
          "data": {
            "text/plain": [
              "<matplotlib.axes._subplots.AxesSubplot at 0x7fc43019a150>"
            ]
          },
          "metadata": {},
          "execution_count": 17
        },
        {
          "output_type": "display_data",
          "data": {
            "image/png": "[encoded data removed]",
            "text/plain": [
              "<Figure size 648x576 with 2 Axes>"
            ]
          },
          "metadata": {
            "needs_background": "light"
          }
        }
      ]
    },
    {
      "cell_type": "markdown",
      "metadata": {
        "id": "0pMUOgRIwlUi"
      },
      "source": [
        "# **Missing values**"
      ]
    },
    {
      "cell_type": "code",
      "metadata": {
        "colab": {
          "base_uri": "https://localhost:8080/"
        },
        "id": "tBZnXf2CYCwW",
        "outputId": "48970b35-1690-4395-966a-aa0d5e21765b"
      },
      "source": [
        "data.isnull().sum()"
      ],
      "execution_count": null,
      "outputs": [
        {
          "output_type": "execute_result",
          "data": {
            "text/plain": [
              "H        7\n",
              "e        0\n",
              "a        0\n",
              "q        0\n",
              "i        0\n",
              "moid     1\n",
              "class    0\n",
              "pha      1\n",
              "dtype: int64"
            ]
          },
          "metadata": {},
          "execution_count": 18
        }
      ]
    },
    {
      "cell_type": "code",
      "metadata": {
        "colab": {
          "base_uri": "https://localhost:8080/",
          "height": 408
        },
        "id": "59LDwFqZw3fh",
        "outputId": "968aebdf-acfe-4fd3-b1ae-e2bed29fd211"
      },
      "source": [
        "data_new = data.dropna()\n",
        "data_new.reset_index(drop=True)"
      ],
      "execution_count": null,
      "outputs": [
        {
          "output_type": "execute_result",
          "data": {
            "text/html": [
              "<div>\n",
              "<style scoped>\n",
              "    .dataframe tbody tr th:only-of-type {\n",
              "        vertical-align: middle;\n",
              "    }\n",
              "\n",
              "    .dataframe tbody tr th {\n",
              "        vertical-align: top;\n",
              "    }\n",
              "\n",
              "    .dataframe thead th {\n",
              "        text-align: right;\n",
              "    }\n",
              "</style>\n",
              "<table border=\"1\" class=\"dataframe\">\n",
              "  <thead>\n",
              "    <tr style=\"text-align: right;\">\n",
              "      <th></th>\n",
              "      <th>H</th>\n",
              "      <th>e</th>\n",
              "      <th>a</th>\n",
              "      <th>q</th>\n",
              "      <th>i</th>\n",
              "      <th>moid</th>\n",
              "      <th>class</th>\n",
              "      <th>pha</th>\n",
              "    </tr>\n",
              "  </thead>\n",
              "  <tbody>\n",
              "    <tr>\n",
              "      <th>0</th>\n",
              "      <td>10.400</td>\n",
              "      <td>0.222994</td>\n",
              "      <td>1.458167</td>\n",
              "      <td>1.133005</td>\n",
              "      <td>10.830513</td>\n",
              "      <td>0.148573</td>\n",
              "      <td>AMO</td>\n",
              "      <td>N</td>\n",
              "    </tr>\n",
              "    <tr>\n",
              "      <th>1</th>\n",
              "      <td>15.510</td>\n",
              "      <td>0.546721</td>\n",
              "      <td>2.638378</td>\n",
              "      <td>1.195922</td>\n",
              "      <td>11.570400</td>\n",
              "      <td>0.201325</td>\n",
              "      <td>AMO</td>\n",
              "      <td>N</td>\n",
              "    </tr>\n",
              "    <tr>\n",
              "      <th>2</th>\n",
              "      <td>13.840</td>\n",
              "      <td>0.570422</td>\n",
              "      <td>2.473534</td>\n",
              "      <td>1.062575</td>\n",
              "      <td>9.393848</td>\n",
              "      <td>0.081753</td>\n",
              "      <td>AMO</td>\n",
              "      <td>N</td>\n",
              "    </tr>\n",
              "    <tr>\n",
              "      <th>3</th>\n",
              "      <td>9.300</td>\n",
              "      <td>0.533095</td>\n",
              "      <td>2.665194</td>\n",
              "      <td>1.244392</td>\n",
              "      <td>26.676143</td>\n",
              "      <td>0.343891</td>\n",
              "      <td>AMO</td>\n",
              "      <td>N</td>\n",
              "    </tr>\n",
              "    <tr>\n",
              "      <th>4</th>\n",
              "      <td>17.390</td>\n",
              "      <td>0.435488</td>\n",
              "      <td>1.919166</td>\n",
              "      <td>1.083392</td>\n",
              "      <td>11.880444</td>\n",
              "      <td>0.106469</td>\n",
              "      <td>AMO</td>\n",
              "      <td>N</td>\n",
              "    </tr>\n",
              "    <tr>\n",
              "      <th>...</th>\n",
              "      <td>...</td>\n",
              "      <td>...</td>\n",
              "      <td>...</td>\n",
              "      <td>...</td>\n",
              "      <td>...</td>\n",
              "      <td>...</td>\n",
              "      <td>...</td>\n",
              "      <td>...</td>\n",
              "    </tr>\n",
              "    <tr>\n",
              "      <th>25695</th>\n",
              "      <td>23.963</td>\n",
              "      <td>0.578658</td>\n",
              "      <td>2.169661</td>\n",
              "      <td>0.914170</td>\n",
              "      <td>5.688374</td>\n",
              "      <td>0.026381</td>\n",
              "      <td>APO</td>\n",
              "      <td>N</td>\n",
              "    </tr>\n",
              "    <tr>\n",
              "      <th>25696</th>\n",
              "      <td>28.852</td>\n",
              "      <td>0.304648</td>\n",
              "      <td>1.235505</td>\n",
              "      <td>0.859111</td>\n",
              "      <td>1.205673</td>\n",
              "      <td>0.000374</td>\n",
              "      <td>APO</td>\n",
              "      <td>N</td>\n",
              "    </tr>\n",
              "    <tr>\n",
              "      <th>25697</th>\n",
              "      <td>25.677</td>\n",
              "      <td>0.429141</td>\n",
              "      <td>1.575648</td>\n",
              "      <td>0.899473</td>\n",
              "      <td>14.354920</td>\n",
              "      <td>0.004392</td>\n",
              "      <td>APO</td>\n",
              "      <td>N</td>\n",
              "    </tr>\n",
              "    <tr>\n",
              "      <th>25698</th>\n",
              "      <td>23.618</td>\n",
              "      <td>0.539771</td>\n",
              "      <td>1.932266</td>\n",
              "      <td>0.889284</td>\n",
              "      <td>10.707926</td>\n",
              "      <td>0.012078</td>\n",
              "      <td>APO</td>\n",
              "      <td>N</td>\n",
              "    </tr>\n",
              "    <tr>\n",
              "      <th>25699</th>\n",
              "      <td>20.400</td>\n",
              "      <td>0.661887</td>\n",
              "      <td>2.818919</td>\n",
              "      <td>0.953114</td>\n",
              "      <td>4.677784</td>\n",
              "      <td>0.036020</td>\n",
              "      <td>APO</td>\n",
              "      <td>Y</td>\n",
              "    </tr>\n",
              "  </tbody>\n",
              "</table>\n",
              "<p>25700 rows × 8 columns</p>\n",
              "</div>"
            ],
            "text/plain": [
              "            H         e         a         q          i      moid class pha\n",
              "0      10.400  0.222994  1.458167  1.133005  10.830513  0.148573   AMO   N\n",
              "1      15.510  0.546721  2.638378  1.195922  11.570400  0.201325   AMO   N\n",
              "2      13.840  0.570422  2.473534  1.062575   9.393848  0.081753   AMO   N\n",
              "3       9.300  0.533095  2.665194  1.244392  26.676143  0.343891   AMO   N\n",
              "4      17.390  0.435488  1.919166  1.083392  11.880444  0.106469   AMO   N\n",
              "...       ...       ...       ...       ...        ...       ...   ...  ..\n",
              "25695  23.963  0.578658  2.169661  0.914170   5.688374  0.026381   APO   N\n",
              "25696  28.852  0.304648  1.235505  0.859111   1.205673  0.000374   APO   N\n",
              "25697  25.677  0.429141  1.575648  0.899473  14.354920  0.004392   APO   N\n",
              "25698  23.618  0.539771  1.932266  0.889284  10.707926  0.012078   APO   N\n",
              "25699  20.400  0.661887  2.818919  0.953114   4.677784  0.036020   APO   Y\n",
              "\n",
              "[25700 rows x 8 columns]"
            ]
          },
          "metadata": {},
          "execution_count": 19
        }
      ]
    },
    {
      "cell_type": "code",
      "metadata": {
        "colab": {
          "base_uri": "https://localhost:8080/"
        },
        "id": "FitsmLi2w8FN",
        "outputId": "66f1f985-b943-4974-bd04-f3ad7f53ecd4"
      },
      "source": [
        "data_new.isnull().sum()"
      ],
      "execution_count": null,
      "outputs": [
        {
          "output_type": "execute_result",
          "data": {
            "text/plain": [
              "H        0\n",
              "e        0\n",
              "a        0\n",
              "q        0\n",
              "i        0\n",
              "moid     0\n",
              "class    0\n",
              "pha      0\n",
              "dtype: int64"
            ]
          },
          "metadata": {},
          "execution_count": 20
        }
      ]
    }
  ]
}